{
  "nbformat": 4,
  "nbformat_minor": 0,
  "metadata": {
    "kernelspec": {
      "name": "python3",
      "display_name": "Python 3",
      "language": "python"
    },
    "language_info": {
      "name": "python",
      "version": "3.6.6",
      "mimetype": "text/x-python",
      "codemirror_mode": {
        "name": "ipython",
        "version": 3
      },
      "pygments_lexer": "ipython3",
      "nbconvert_exporter": "python",
      "file_extension": ".py"
    },
    "colab": {
      "name": "sardi_nlp.ipynb",
      "provenance": [],
      "collapsed_sections": [],
      "toc_visible": true
    }
  },
  "cells": [
    {
      "cell_type": "markdown",
      "metadata": {
        "id": "Y6gt3Zl5epD2"
      },
      "source": [
        "Nama: Sardi Irfansyah\r\n",
        "\r\n",
        "submission NLP"
      ]
    },
    {
      "cell_type": "markdown",
      "metadata": {
        "id": "ltM_DBae015i"
      },
      "source": [
        "# Install dan atur dataset dari kaggle"
      ]
    },
    {
      "cell_type": "code",
      "metadata": {
        "id": "7_cY5XTdc-hp"
      },
      "source": [
        "# install kaggle package dengan pip\r\n",
        "!pip install -q kaggle"
      ],
      "execution_count": 1,
      "outputs": []
    },
    {
      "cell_type": "code",
      "metadata": {
        "colab": {
          "resources": {
            "http://localhost:8080/nbextensions/google.colab/files.js": {
              "data": "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",
              "ok": true,
              "headers": [
                [
                  "content-type",
                  "application/javascript"
                ]
              ],
              "status": 200,
              "status_text": ""
            }
          },
          "base_uri": "https://localhost:8080/",
          "height": 89
        },
        "id": "nPkIeuUHdKlJ",
        "outputId": "48157523-cee9-4db3-ccc4-7353ff99e051"
      },
      "source": [
        "# upload file kaggle.json yg di dapat dari akun kaggle\r\n",
        "from google.colab import files\r\n",
        "files.upload()"
      ],
      "execution_count": 2,
      "outputs": [
        {
          "output_type": "display_data",
          "data": {
            "text/html": [
              "\n",
              "     <input type=\"file\" id=\"files-ddef14bc-f79d-420b-afa3-a03f6ba8b3d7\" name=\"files[]\" multiple disabled\n",
              "        style=\"border:none\" />\n",
              "     <output id=\"result-ddef14bc-f79d-420b-afa3-a03f6ba8b3d7\">\n",
              "      Upload widget is only available when the cell has been executed in the\n",
              "      current browser session. Please rerun this cell to enable.\n",
              "      </output>\n",
              "      <script src=\"/nbextensions/google.colab/files.js\"></script> "
            ],
            "text/plain": [
              "<IPython.core.display.HTML object>"
            ]
          },
          "metadata": {
            "tags": []
          }
        },
        {
          "output_type": "stream",
          "text": [
            "Saving kaggle.json to kaggle.json\n"
          ],
          "name": "stdout"
        },
        {
          "output_type": "execute_result",
          "data": {
            "text/plain": [
              "{'kaggle.json': b'{\"username\":\"sardiirfansyah\",\"key\":\"3111a75f581bb28ea20c0e230c9a5338\"}'}"
            ]
          },
          "metadata": {
            "tags": []
          },
          "execution_count": 2
        }
      ]
    },
    {
      "cell_type": "code",
      "metadata": {
        "colab": {
          "base_uri": "https://localhost:8080/"
        },
        "id": "SDr9DbYLds1P",
        "outputId": "b10665f9-c0d6-4229-af39-6cd826bbcbc5"
      },
      "source": [
        "# membuat directory dan mengubah izin file\r\n",
        "!mkdir -p ~/.kaggle\r\n",
        "!cp kaggle.json ~/.kaggle/\r\n",
        "!chmod 600 ~/.kaggle/kaggle.json\r\n",
        "!ls ~/.kaggle"
      ],
      "execution_count": 3,
      "outputs": [
        {
          "output_type": "stream",
          "text": [
            "kaggle.json\n"
          ],
          "name": "stdout"
        }
      ]
    },
    {
      "cell_type": "code",
      "metadata": {
        "colab": {
          "base_uri": "https://localhost:8080/"
        },
        "id": "GZU2dLRxdZuO",
        "outputId": "a289bcb4-6eba-41c0-e0cb-2ca69626daca"
      },
      "source": [
        "#download dataset\r\n",
        "!kaggle datasets download -d hgultekin/bbcnewsarchive"
      ],
      "execution_count": 4,
      "outputs": [
        {
          "output_type": "stream",
          "text": [
            "Downloading bbcnewsarchive.zip to /content\n",
            "\r  0% 0.00/1.81M [00:00<?, ?B/s]\n",
            "\r100% 1.81M/1.81M [00:00<00:00, 60.5MB/s]\n"
          ],
          "name": "stdout"
        }
      ]
    },
    {
      "cell_type": "code",
      "metadata": {
        "colab": {
          "base_uri": "https://localhost:8080/"
        },
        "id": "hliV9Mpvesf9",
        "outputId": "bca899fa-5dec-4c38-c30e-4afafa438617"
      },
      "source": [
        "# unzip dan lihat list dataset\r\n",
        "!mkdir bbcnewsarchive\r\n",
        "!unzip bbcnewsarchive.zip -d bbcnewsarchive\r\n",
        "!ls bbcnewsarchive"
      ],
      "execution_count": 5,
      "outputs": [
        {
          "output_type": "stream",
          "text": [
            "Archive:  bbcnewsarchive.zip\n",
            "  inflating: bbcnewsarchive/bbc-news-data.csv  \n",
            "bbc-news-data.csv\n"
          ],
          "name": "stdout"
        }
      ]
    },
    {
      "cell_type": "markdown",
      "metadata": {
        "id": "QC-aZkN71Ou5"
      },
      "source": [
        "# membaca dataset dan visualisasi data berdasarkan kategori"
      ]
    },
    {
      "cell_type": "code",
      "metadata": {
        "id": "jMoJlofmfAFi"
      },
      "source": [
        "#import library \r\n",
        "import numpy as np\r\n",
        "import pandas as pd\r\n",
        "import seaborn as sns\r\n",
        "import matplotlib.pyplot as plt"
      ],
      "execution_count": 6,
      "outputs": []
    },
    {
      "cell_type": "code",
      "metadata": {
        "id": "XFwcQXoXf-TV",
        "colab": {
          "base_uri": "https://localhost:8080/",
          "height": 204
        },
        "outputId": "882e3412-e018-4bb0-9742-f2b01e53c3c2"
      },
      "source": [
        "#import data ke variabel untuk dibaca\r\n",
        "news_data = pd.read_csv('bbcnewsarchive/bbc-news-data.csv', sep='\\t')\r\n",
        "\r\n",
        "#cek 5 data teratas\r\n",
        "news_data.head()"
      ],
      "execution_count": 7,
      "outputs": [
        {
          "output_type": "execute_result",
          "data": {
            "text/html": [
              "<div>\n",
              "<style scoped>\n",
              "    .dataframe tbody tr th:only-of-type {\n",
              "        vertical-align: middle;\n",
              "    }\n",
              "\n",
              "    .dataframe tbody tr th {\n",
              "        vertical-align: top;\n",
              "    }\n",
              "\n",
              "    .dataframe thead th {\n",
              "        text-align: right;\n",
              "    }\n",
              "</style>\n",
              "<table border=\"1\" class=\"dataframe\">\n",
              "  <thead>\n",
              "    <tr style=\"text-align: right;\">\n",
              "      <th></th>\n",
              "      <th>category</th>\n",
              "      <th>filename</th>\n",
              "      <th>title</th>\n",
              "      <th>content</th>\n",
              "    </tr>\n",
              "  </thead>\n",
              "  <tbody>\n",
              "    <tr>\n",
              "      <th>0</th>\n",
              "      <td>business</td>\n",
              "      <td>001.txt</td>\n",
              "      <td>Ad sales boost Time Warner profit</td>\n",
              "      <td>Quarterly profits at US media giant TimeWarne...</td>\n",
              "    </tr>\n",
              "    <tr>\n",
              "      <th>1</th>\n",
              "      <td>business</td>\n",
              "      <td>002.txt</td>\n",
              "      <td>Dollar gains on Greenspan speech</td>\n",
              "      <td>The dollar has hit its highest level against ...</td>\n",
              "    </tr>\n",
              "    <tr>\n",
              "      <th>2</th>\n",
              "      <td>business</td>\n",
              "      <td>003.txt</td>\n",
              "      <td>Yukos unit buyer faces loan claim</td>\n",
              "      <td>The owners of embattled Russian oil giant Yuk...</td>\n",
              "    </tr>\n",
              "    <tr>\n",
              "      <th>3</th>\n",
              "      <td>business</td>\n",
              "      <td>004.txt</td>\n",
              "      <td>High fuel prices hit BA's profits</td>\n",
              "      <td>British Airways has blamed high fuel prices f...</td>\n",
              "    </tr>\n",
              "    <tr>\n",
              "      <th>4</th>\n",
              "      <td>business</td>\n",
              "      <td>005.txt</td>\n",
              "      <td>Pernod takeover talk lifts Domecq</td>\n",
              "      <td>Shares in UK drinks and food firm Allied Dome...</td>\n",
              "    </tr>\n",
              "  </tbody>\n",
              "</table>\n",
              "</div>"
            ],
            "text/plain": [
              "   category  ...                                            content\n",
              "0  business  ...   Quarterly profits at US media giant TimeWarne...\n",
              "1  business  ...   The dollar has hit its highest level against ...\n",
              "2  business  ...   The owners of embattled Russian oil giant Yuk...\n",
              "3  business  ...   British Airways has blamed high fuel prices f...\n",
              "4  business  ...   Shares in UK drinks and food firm Allied Dome...\n",
              "\n",
              "[5 rows x 4 columns]"
            ]
          },
          "metadata": {
            "tags": []
          },
          "execution_count": 7
        }
      ]
    },
    {
      "cell_type": "code",
      "metadata": {
        "colab": {
          "base_uri": "https://localhost:8080/"
        },
        "id": "HgkpFSMfgtd4",
        "outputId": "90b05e0f-0a98-4703-bf03-da5c8b2de086"
      },
      "source": [
        "# total data\r\n",
        "news_data.shape"
      ],
      "execution_count": 8,
      "outputs": [
        {
          "output_type": "execute_result",
          "data": {
            "text/plain": [
              "(2225, 4)"
            ]
          },
          "metadata": {
            "tags": []
          },
          "execution_count": 8
        }
      ]
    },
    {
      "cell_type": "code",
      "metadata": {
        "colab": {
          "base_uri": "https://localhost:8080/"
        },
        "id": "qXPI4EvpjlEy",
        "outputId": "fe30beab-12c6-4804-fb42-fe51e52a95b0"
      },
      "source": [
        "# Cek apakah ada nilai Null\r\n",
        "news_data.isnull().sum()"
      ],
      "execution_count": 9,
      "outputs": [
        {
          "output_type": "execute_result",
          "data": {
            "text/plain": [
              "category    0\n",
              "filename    0\n",
              "title       0\n",
              "content     0\n",
              "dtype: int64"
            ]
          },
          "metadata": {
            "tags": []
          },
          "execution_count": 9
        }
      ]
    },
    {
      "cell_type": "code",
      "metadata": {
        "colab": {
          "base_uri": "https://localhost:8080/"
        },
        "id": "IxXf1lIcknhB",
        "outputId": "09556c1c-b498-4ab6-9472-b52de6a4a995"
      },
      "source": [
        "# cek memory usage\r\n",
        "print(news_data.info())"
      ],
      "execution_count": 10,
      "outputs": [
        {
          "output_type": "stream",
          "text": [
            "<class 'pandas.core.frame.DataFrame'>\n",
            "RangeIndex: 2225 entries, 0 to 2224\n",
            "Data columns (total 4 columns):\n",
            " #   Column    Non-Null Count  Dtype \n",
            "---  ------    --------------  ----- \n",
            " 0   category  2225 non-null   object\n",
            " 1   filename  2225 non-null   object\n",
            " 2   title     2225 non-null   object\n",
            " 3   content   2225 non-null   object\n",
            "dtypes: object(4)\n",
            "memory usage: 69.7+ KB\n",
            "None\n"
          ],
          "name": "stdout"
        }
      ]
    },
    {
      "cell_type": "code",
      "metadata": {
        "colab": {
          "base_uri": "https://localhost:8080/"
        },
        "id": "Se9mVMMq01b5",
        "outputId": "7f81362d-ae2d-47f8-8a99-5fd52bc72eda"
      },
      "source": [
        "# categories\r\n",
        "news_data.category.value_counts()"
      ],
      "execution_count": 11,
      "outputs": [
        {
          "output_type": "execute_result",
          "data": {
            "text/plain": [
              "sport            511\n",
              "business         510\n",
              "politics         417\n",
              "tech             401\n",
              "entertainment    386\n",
              "Name: category, dtype: int64"
            ]
          },
          "metadata": {
            "tags": []
          },
          "execution_count": 11
        }
      ]
    },
    {
      "cell_type": "code",
      "metadata": {
        "id": "qHlmkzgdlNys",
        "colab": {
          "base_uri": "https://localhost:8080/",
          "height": 419
        },
        "outputId": "62a95e3d-e3b9-47fe-afc8-1de59be22d5c"
      },
      "source": [
        "# delete columns yang tidak digunakan\r\n",
        "news_data = news_data.drop(columns=['filename'])\r\n",
        "news_data"
      ],
      "execution_count": 12,
      "outputs": [
        {
          "output_type": "execute_result",
          "data": {
            "text/html": [
              "<div>\n",
              "<style scoped>\n",
              "    .dataframe tbody tr th:only-of-type {\n",
              "        vertical-align: middle;\n",
              "    }\n",
              "\n",
              "    .dataframe tbody tr th {\n",
              "        vertical-align: top;\n",
              "    }\n",
              "\n",
              "    .dataframe thead th {\n",
              "        text-align: right;\n",
              "    }\n",
              "</style>\n",
              "<table border=\"1\" class=\"dataframe\">\n",
              "  <thead>\n",
              "    <tr style=\"text-align: right;\">\n",
              "      <th></th>\n",
              "      <th>category</th>\n",
              "      <th>title</th>\n",
              "      <th>content</th>\n",
              "    </tr>\n",
              "  </thead>\n",
              "  <tbody>\n",
              "    <tr>\n",
              "      <th>0</th>\n",
              "      <td>business</td>\n",
              "      <td>Ad sales boost Time Warner profit</td>\n",
              "      <td>Quarterly profits at US media giant TimeWarne...</td>\n",
              "    </tr>\n",
              "    <tr>\n",
              "      <th>1</th>\n",
              "      <td>business</td>\n",
              "      <td>Dollar gains on Greenspan speech</td>\n",
              "      <td>The dollar has hit its highest level against ...</td>\n",
              "    </tr>\n",
              "    <tr>\n",
              "      <th>2</th>\n",
              "      <td>business</td>\n",
              "      <td>Yukos unit buyer faces loan claim</td>\n",
              "      <td>The owners of embattled Russian oil giant Yuk...</td>\n",
              "    </tr>\n",
              "    <tr>\n",
              "      <th>3</th>\n",
              "      <td>business</td>\n",
              "      <td>High fuel prices hit BA's profits</td>\n",
              "      <td>British Airways has blamed high fuel prices f...</td>\n",
              "    </tr>\n",
              "    <tr>\n",
              "      <th>4</th>\n",
              "      <td>business</td>\n",
              "      <td>Pernod takeover talk lifts Domecq</td>\n",
              "      <td>Shares in UK drinks and food firm Allied Dome...</td>\n",
              "    </tr>\n",
              "    <tr>\n",
              "      <th>...</th>\n",
              "      <td>...</td>\n",
              "      <td>...</td>\n",
              "      <td>...</td>\n",
              "    </tr>\n",
              "    <tr>\n",
              "      <th>2220</th>\n",
              "      <td>tech</td>\n",
              "      <td>BT program to beat dialler scams</td>\n",
              "      <td>BT is introducing two initiatives to help bea...</td>\n",
              "    </tr>\n",
              "    <tr>\n",
              "      <th>2221</th>\n",
              "      <td>tech</td>\n",
              "      <td>Spam e-mails tempt net shoppers</td>\n",
              "      <td>Computer users across the world continue to i...</td>\n",
              "    </tr>\n",
              "    <tr>\n",
              "      <th>2222</th>\n",
              "      <td>tech</td>\n",
              "      <td>Be careful how you code</td>\n",
              "      <td>A new European directive could put software w...</td>\n",
              "    </tr>\n",
              "    <tr>\n",
              "      <th>2223</th>\n",
              "      <td>tech</td>\n",
              "      <td>US cyber security chief resigns</td>\n",
              "      <td>The man making sure US computer networks are ...</td>\n",
              "    </tr>\n",
              "    <tr>\n",
              "      <th>2224</th>\n",
              "      <td>tech</td>\n",
              "      <td>Losing yourself in online gaming</td>\n",
              "      <td>Online role playing games are time-consuming,...</td>\n",
              "    </tr>\n",
              "  </tbody>\n",
              "</table>\n",
              "<p>2225 rows × 3 columns</p>\n",
              "</div>"
            ],
            "text/plain": [
              "      category  ...                                            content\n",
              "0     business  ...   Quarterly profits at US media giant TimeWarne...\n",
              "1     business  ...   The dollar has hit its highest level against ...\n",
              "2     business  ...   The owners of embattled Russian oil giant Yuk...\n",
              "3     business  ...   British Airways has blamed high fuel prices f...\n",
              "4     business  ...   Shares in UK drinks and food firm Allied Dome...\n",
              "...        ...  ...                                                ...\n",
              "2220      tech  ...   BT is introducing two initiatives to help bea...\n",
              "2221      tech  ...   Computer users across the world continue to i...\n",
              "2222      tech  ...   A new European directive could put software w...\n",
              "2223      tech  ...   The man making sure US computer networks are ...\n",
              "2224      tech  ...   Online role playing games are time-consuming,...\n",
              "\n",
              "[2225 rows x 3 columns]"
            ]
          },
          "metadata": {
            "tags": []
          },
          "execution_count": 12
        }
      ]
    },
    {
      "cell_type": "code",
      "metadata": {
        "colab": {
          "base_uri": "https://localhost:8080/",
          "height": 350
        },
        "id": "T1mxnF9NnZAz",
        "outputId": "893957f1-38dc-45b2-b83d-9083bff74630"
      },
      "source": [
        "#visualisasi data berdasarkan kategori\r\n",
        "sns.set_style(\"darkgrid\")\r\n",
        "sns.countplot(news_data.category)"
      ],
      "execution_count": 13,
      "outputs": [
        {
          "output_type": "stream",
          "text": [
            "/usr/local/lib/python3.6/dist-packages/seaborn/_decorators.py:43: FutureWarning: Pass the following variable as a keyword arg: x. From version 0.12, the only valid positional argument will be `data`, and passing other arguments without an explicit keyword will result in an error or misinterpretation.\n",
            "  FutureWarning\n"
          ],
          "name": "stderr"
        },
        {
          "output_type": "execute_result",
          "data": {
            "text/plain": [
              "<matplotlib.axes._subplots.AxesSubplot at 0x7f33960fd908>"
            ]
          },
          "metadata": {
            "tags": []
          },
          "execution_count": 13
        },
        {
          "output_type": "display_data",
          "data": {
            "image/png": "[encoded data removed]",
            "text/plain": [
              "<Figure size 432x288 with 1 Axes>"
            ]
          },
          "metadata": {
            "tags": []
          }
        }
      ]
    },
    {
      "cell_type": "code",
      "metadata": {
        "colab": {
          "base_uri": "https://localhost:8080/"
        },
        "id": "LfWGSJ6upEk9",
        "outputId": "5741dc13-3052-4d57-8c19-8c0aae956430"
      },
      "source": [
        "#menghitung jumlah title\r\n",
        "news_data.title.count()"
      ],
      "execution_count": 14,
      "outputs": [
        {
          "output_type": "execute_result",
          "data": {
            "text/plain": [
              "2225"
            ]
          },
          "metadata": {
            "tags": []
          },
          "execution_count": 14
        }
      ]
    },
    {
      "cell_type": "code",
      "metadata": {
        "id": "ev2thv2XeGsy",
        "colab": {
          "base_uri": "https://localhost:8080/",
          "height": 572
        },
        "outputId": "2b2e169d-f288-4b5e-adac-7bceb7599076"
      },
      "source": [
        "#menggabungkan column title dan content\r\n",
        "news_data['text'] = news_data['title'] + \" \" + news_data['content']\r\n",
        "news_data"
      ],
      "execution_count": 15,
      "outputs": [
        {
          "output_type": "execute_result",
          "data": {
            "text/html": [
              "<div>\n",
              "<style scoped>\n",
              "    .dataframe tbody tr th:only-of-type {\n",
              "        vertical-align: middle;\n",
              "    }\n",
              "\n",
              "    .dataframe tbody tr th {\n",
              "        vertical-align: top;\n",
              "    }\n",
              "\n",
              "    .dataframe thead th {\n",
              "        text-align: right;\n",
              "    }\n",
              "</style>\n",
              "<table border=\"1\" class=\"dataframe\">\n",
              "  <thead>\n",
              "    <tr style=\"text-align: right;\">\n",
              "      <th></th>\n",
              "      <th>category</th>\n",
              "      <th>title</th>\n",
              "      <th>content</th>\n",
              "      <th>text</th>\n",
              "    </tr>\n",
              "  </thead>\n",
              "  <tbody>\n",
              "    <tr>\n",
              "      <th>0</th>\n",
              "      <td>business</td>\n",
              "      <td>Ad sales boost Time Warner profit</td>\n",
              "      <td>Quarterly profits at US media giant TimeWarne...</td>\n",
              "      <td>Ad sales boost Time Warner profit  Quarterly p...</td>\n",
              "    </tr>\n",
              "    <tr>\n",
              "      <th>1</th>\n",
              "      <td>business</td>\n",
              "      <td>Dollar gains on Greenspan speech</td>\n",
              "      <td>The dollar has hit its highest level against ...</td>\n",
              "      <td>Dollar gains on Greenspan speech  The dollar h...</td>\n",
              "    </tr>\n",
              "    <tr>\n",
              "      <th>2</th>\n",
              "      <td>business</td>\n",
              "      <td>Yukos unit buyer faces loan claim</td>\n",
              "      <td>The owners of embattled Russian oil giant Yuk...</td>\n",
              "      <td>Yukos unit buyer faces loan claim  The owners ...</td>\n",
              "    </tr>\n",
              "    <tr>\n",
              "      <th>3</th>\n",
              "      <td>business</td>\n",
              "      <td>High fuel prices hit BA's profits</td>\n",
              "      <td>British Airways has blamed high fuel prices f...</td>\n",
              "      <td>High fuel prices hit BA's profits  British Air...</td>\n",
              "    </tr>\n",
              "    <tr>\n",
              "      <th>4</th>\n",
              "      <td>business</td>\n",
              "      <td>Pernod takeover talk lifts Domecq</td>\n",
              "      <td>Shares in UK drinks and food firm Allied Dome...</td>\n",
              "      <td>Pernod takeover talk lifts Domecq  Shares in U...</td>\n",
              "    </tr>\n",
              "    <tr>\n",
              "      <th>...</th>\n",
              "      <td>...</td>\n",
              "      <td>...</td>\n",
              "      <td>...</td>\n",
              "      <td>...</td>\n",
              "    </tr>\n",
              "    <tr>\n",
              "      <th>2220</th>\n",
              "      <td>tech</td>\n",
              "      <td>BT program to beat dialler scams</td>\n",
              "      <td>BT is introducing two initiatives to help bea...</td>\n",
              "      <td>BT program to beat dialler scams  BT is introd...</td>\n",
              "    </tr>\n",
              "    <tr>\n",
              "      <th>2221</th>\n",
              "      <td>tech</td>\n",
              "      <td>Spam e-mails tempt net shoppers</td>\n",
              "      <td>Computer users across the world continue to i...</td>\n",
              "      <td>Spam e-mails tempt net shoppers  Computer user...</td>\n",
              "    </tr>\n",
              "    <tr>\n",
              "      <th>2222</th>\n",
              "      <td>tech</td>\n",
              "      <td>Be careful how you code</td>\n",
              "      <td>A new European directive could put software w...</td>\n",
              "      <td>Be careful how you code  A new European direct...</td>\n",
              "    </tr>\n",
              "    <tr>\n",
              "      <th>2223</th>\n",
              "      <td>tech</td>\n",
              "      <td>US cyber security chief resigns</td>\n",
              "      <td>The man making sure US computer networks are ...</td>\n",
              "      <td>US cyber security chief resigns  The man makin...</td>\n",
              "    </tr>\n",
              "    <tr>\n",
              "      <th>2224</th>\n",
              "      <td>tech</td>\n",
              "      <td>Losing yourself in online gaming</td>\n",
              "      <td>Online role playing games are time-consuming,...</td>\n",
              "      <td>Losing yourself in online gaming  Online role ...</td>\n",
              "    </tr>\n",
              "  </tbody>\n",
              "</table>\n",
              "<p>2225 rows × 4 columns</p>\n",
              "</div>"
            ],
            "text/plain": [
              "      category  ...                                               text\n",
              "0     business  ...  Ad sales boost Time Warner profit  Quarterly p...\n",
              "1     business  ...  Dollar gains on Greenspan speech  The dollar h...\n",
              "2     business  ...  Yukos unit buyer faces loan claim  The owners ...\n",
              "3     business  ...  High fuel prices hit BA's profits  British Air...\n",
              "4     business  ...  Pernod takeover talk lifts Domecq  Shares in U...\n",
              "...        ...  ...                                                ...\n",
              "2220      tech  ...  BT program to beat dialler scams  BT is introd...\n",
              "2221      tech  ...  Spam e-mails tempt net shoppers  Computer user...\n",
              "2222      tech  ...  Be careful how you code  A new European direct...\n",
              "2223      tech  ...  US cyber security chief resigns  The man makin...\n",
              "2224      tech  ...  Losing yourself in online gaming  Online role ...\n",
              "\n",
              "[2225 rows x 4 columns]"
            ]
          },
          "metadata": {
            "tags": []
          },
          "execution_count": 15
        }
      ]
    },
    {
      "cell_type": "markdown",
      "metadata": {
        "id": "GAIsRjsTgG2O"
      },
      "source": [
        "# Data Cleaning"
      ]
    },
    {
      "cell_type": "code",
      "metadata": {
        "_uuid": "d629ff2d2480ee46fbb7e2d37f6b5fab8052498a",
        "_cell_guid": "79c7e3d0-c299-4dcb-8224-4455121ee9b0",
        "trusted": true,
        "colab": {
          "base_uri": "https://localhost:8080/"
        },
        "id": "-X51F61rcOe0",
        "outputId": "ca2598eb-bb88-42db-c821-6c09fc323410"
      },
      "source": [
        "from nltk.corpus import stopwords\n",
        "from nltk.tokenize import word_tokenize,sent_tokenize\n",
        "from bs4 import BeautifulSoup\n",
        "import re,string,unicodedata\n",
        "from sklearn.metrics import classification_report,confusion_matrix,accuracy_score\n",
        "from sklearn.model_selection import train_test_split\n",
        "from string import punctuation\n",
        "from nltk import pos_tag\n",
        "from nltk.corpus import wordnet\n",
        "import keras\n",
        "from keras.preprocessing import text, sequence\n",
        "import nltk\n",
        "nltk.download('stopwords')"
      ],
      "execution_count": 16,
      "outputs": [
        {
          "output_type": "stream",
          "text": [
            "[nltk_data] Downloading package stopwords to /root/nltk_data...\n",
            "[nltk_data]   Unzipping corpora/stopwords.zip.\n"
          ],
          "name": "stdout"
        },
        {
          "output_type": "execute_result",
          "data": {
            "text/plain": [
              "True"
            ]
          },
          "metadata": {
            "tags": []
          },
          "execution_count": 16
        }
      ]
    },
    {
      "cell_type": "markdown",
      "metadata": {
        "id": "Qsia8T-kgSfo"
      },
      "source": [
        "**Menghapus Stopwords**\r\n",
        "\r\n",
        "Stop words adalah kata umum (common words) yang biasanya muncul dalam jumlah besar dan dianggap tidak memiliki makna. Contoh stop words untuk bahasa Inggris diantaranya “of”, “i”, dll. Kata tersebut sudah ada dalah corpus"
      ]
    },
    {
      "cell_type": "code",
      "metadata": {
        "id": "vDyfJ4gLgMlS"
      },
      "source": [
        "stwd = set(stopwords.words('english'))\r\n",
        "punctuation = list(string.punctuation)\r\n",
        "stwd.update(punctuation)"
      ],
      "execution_count": 17,
      "outputs": []
    },
    {
      "cell_type": "code",
      "metadata": {
        "id": "AXCe4trbgx-R"
      },
      "source": [
        "# data cleaning\r\n",
        "def strip_html(text):\r\n",
        "    soup = BeautifulSoup(text, \"html.parser\")\r\n",
        "    return soup.get_text()\r\n",
        "\r\n",
        "#hapus square brackets\r\n",
        "def remove_between_square_brackets(text):\r\n",
        "    return re.sub('\\[[^]]*\\]', '', text)\r\n",
        "#hapus URL's\r\n",
        "def remove_url(text):\r\n",
        "    return re.sub(r'http\\S+', '', text)\r\n",
        "#hapus stopwords dari text\r\n",
        "def remove_stopwords(text):\r\n",
        "    final_text = []\r\n",
        "    for i in text.split():\r\n",
        "        if i.strip().lower() not in stwd:\r\n",
        "            final_text.append(i.strip())\r\n",
        "    return \" \".join(final_text)\r\n",
        "#hapus noisy text\r\n",
        "def denoise_text(text):\r\n",
        "    text = strip_html(text)\r\n",
        "    text = remove_between_square_brackets(text)\r\n",
        "    text = remove_url(text)\r\n",
        "    text = remove_stopwords(text)\r\n",
        "    return text\r\n",
        "#Apply function on review column\r\n",
        "news_data['text']=news_data['text'].apply(denoise_text)"
      ],
      "execution_count": 18,
      "outputs": []
    },
    {
      "cell_type": "markdown",
      "metadata": {
        "id": "7QjcMACPkhA8"
      },
      "source": [
        "# Jumlah Word"
      ]
    },
    {
      "cell_type": "code",
      "metadata": {
        "colab": {
          "base_uri": "https://localhost:8080/"
        },
        "id": "I7OxHJPpi_Bm",
        "outputId": "6720b9a4-0451-4e76-9475-19abb04fb671"
      },
      "source": [
        "def get_corpus(text):\r\n",
        "    words = []\r\n",
        "    for i in text:\r\n",
        "        for j in i.split():\r\n",
        "            words.append(j.strip())\r\n",
        "    return words\r\n",
        "corpus = get_corpus(news_data.text)\r\n",
        "corpus[:10]"
      ],
      "execution_count": 19,
      "outputs": [
        {
          "output_type": "execute_result",
          "data": {
            "text/plain": [
              "['Ad',\n",
              " 'sales',\n",
              " 'boost',\n",
              " 'Time',\n",
              " 'Warner',\n",
              " 'profit',\n",
              " 'Quarterly',\n",
              " 'profits',\n",
              " 'US',\n",
              " 'media']"
            ]
          },
          "metadata": {
            "tags": []
          },
          "execution_count": 19
        }
      ]
    },
    {
      "cell_type": "code",
      "metadata": {
        "colab": {
          "base_uri": "https://localhost:8080/"
        },
        "id": "prEKH7gQjOE2",
        "outputId": "6c7960b1-08a5-4253-9f13-f74d08fdb628"
      },
      "source": [
        "#jumlah kata yang sering ditemukan\r\n",
        "from collections import Counter\r\n",
        "counter = Counter(corpus)\r\n",
        "most_common = counter.most_common(10)\r\n",
        "most_common = dict(most_common)\r\n",
        "most_common"
      ],
      "execution_count": 20,
      "outputs": [
        {
          "output_type": "execute_result",
          "data": {
            "text/plain": [
              "{'Mr': 2979,\n",
              " 'US': 1346,\n",
              " 'also': 2098,\n",
              " 'could': 1494,\n",
              " 'new': 1490,\n",
              " 'one': 1376,\n",
              " 'people': 1695,\n",
              " 'said': 4899,\n",
              " 'said.': 1499,\n",
              " 'would': 2555}"
            ]
          },
          "metadata": {
            "tags": []
          },
          "execution_count": 20
        }
      ]
    },
    {
      "cell_type": "code",
      "metadata": {
        "id": "d5GsT9M0keaZ"
      },
      "source": [
        "from sklearn.feature_extraction.text import CountVectorizer\r\n",
        "def get_top_text_ngrams(corpus, n, g):\r\n",
        "    cv = CountVectorizer(ngram_range=(g, g)).fit(corpus)\r\n",
        "    bag_words = cv.transform(corpus)\r\n",
        "    sum_words = bag_words.sum(axis=0) \r\n",
        "    words_freq = [(word, sum_words[0, idx]) for word, idx in cv.vocabulary_.items()]\r\n",
        "    words_freq =sorted(words_freq, key = lambda x: x[1], reverse=True)\r\n",
        "    return words_freq[:n]"
      ],
      "execution_count": 21,
      "outputs": []
    },
    {
      "cell_type": "code",
      "metadata": {
        "colab": {
          "base_uri": "https://localhost:8080/",
          "height": 552
        },
        "id": "k6tB6gw4lARl",
        "outputId": "aab7e7a2-fb38-4920-dc92-7a1a333332ee"
      },
      "source": [
        "plt.figure(figsize = (16,9))\r\n",
        "most_common = get_top_text_ngrams(news_data.text,10,1)\r\n",
        "most_common = dict(most_common)\r\n",
        "sns.barplot(x=list(most_common.values()),y=list(most_common.keys()))"
      ],
      "execution_count": 22,
      "outputs": [
        {
          "output_type": "execute_result",
          "data": {
            "text/plain": [
              "<matplotlib.axes._subplots.AxesSubplot at 0x7f3396965cc0>"
            ]
          },
          "metadata": {
            "tags": []
          },
          "execution_count": 22
        },
        {
          "output_type": "display_data",
          "data": {
            "image/png": "[encoded data removed]",
            "text/plain": [
              "<Figure size 1152x648 with 1 Axes>"
            ]
          },
          "metadata": {
            "tags": []
          }
        }
      ]
    },
    {
      "cell_type": "markdown",
      "metadata": {
        "id": "JyrOkYtflTn1"
      },
      "source": [
        "# Encoding & Splitting Data"
      ]
    },
    {
      "cell_type": "code",
      "metadata": {
        "colab": {
          "base_uri": "https://localhost:8080/",
          "height": 529
        },
        "id": "MhwPkzF96n-z",
        "outputId": "7013deed-f0b1-4181-9b3b-08a9f0f26723"
      },
      "source": [
        "# data category one-hot-encoding\r\n",
        "category = pd.get_dummies(news_data.category)\r\n",
        "new_cat = pd.concat([news_data, category], axis=1)\r\n",
        "new_cat = new_cat.drop(columns='category')\r\n",
        "new_cat.head(10)"
      ],
      "execution_count": 23,
      "outputs": [
        {
          "output_type": "execute_result",
          "data": {
            "text/html": [
              "<div>\n",
              "<style scoped>\n",
              "    .dataframe tbody tr th:only-of-type {\n",
              "        vertical-align: middle;\n",
              "    }\n",
              "\n",
              "    .dataframe tbody tr th {\n",
              "        vertical-align: top;\n",
              "    }\n",
              "\n",
              "    .dataframe thead th {\n",
              "        text-align: right;\n",
              "    }\n",
              "</style>\n",
              "<table border=\"1\" class=\"dataframe\">\n",
              "  <thead>\n",
              "    <tr style=\"text-align: right;\">\n",
              "      <th></th>\n",
              "      <th>title</th>\n",
              "      <th>content</th>\n",
              "      <th>text</th>\n",
              "      <th>business</th>\n",
              "      <th>entertainment</th>\n",
              "      <th>politics</th>\n",
              "      <th>sport</th>\n",
              "      <th>tech</th>\n",
              "    </tr>\n",
              "  </thead>\n",
              "  <tbody>\n",
              "    <tr>\n",
              "      <th>0</th>\n",
              "      <td>Ad sales boost Time Warner profit</td>\n",
              "      <td>Quarterly profits at US media giant TimeWarne...</td>\n",
              "      <td>Ad sales boost Time Warner profit Quarterly pr...</td>\n",
              "      <td>1</td>\n",
              "      <td>0</td>\n",
              "      <td>0</td>\n",
              "      <td>0</td>\n",
              "      <td>0</td>\n",
              "    </tr>\n",
              "    <tr>\n",
              "      <th>1</th>\n",
              "      <td>Dollar gains on Greenspan speech</td>\n",
              "      <td>The dollar has hit its highest level against ...</td>\n",
              "      <td>Dollar gains Greenspan speech dollar hit highe...</td>\n",
              "      <td>1</td>\n",
              "      <td>0</td>\n",
              "      <td>0</td>\n",
              "      <td>0</td>\n",
              "      <td>0</td>\n",
              "    </tr>\n",
              "    <tr>\n",
              "      <th>2</th>\n",
              "      <td>Yukos unit buyer faces loan claim</td>\n",
              "      <td>The owners of embattled Russian oil giant Yuk...</td>\n",
              "      <td>Yukos unit buyer faces loan claim owners embat...</td>\n",
              "      <td>1</td>\n",
              "      <td>0</td>\n",
              "      <td>0</td>\n",
              "      <td>0</td>\n",
              "      <td>0</td>\n",
              "    </tr>\n",
              "    <tr>\n",
              "      <th>3</th>\n",
              "      <td>High fuel prices hit BA's profits</td>\n",
              "      <td>British Airways has blamed high fuel prices f...</td>\n",
              "      <td>High fuel prices hit BA's profits British Airw...</td>\n",
              "      <td>1</td>\n",
              "      <td>0</td>\n",
              "      <td>0</td>\n",
              "      <td>0</td>\n",
              "      <td>0</td>\n",
              "    </tr>\n",
              "    <tr>\n",
              "      <th>4</th>\n",
              "      <td>Pernod takeover talk lifts Domecq</td>\n",
              "      <td>Shares in UK drinks and food firm Allied Dome...</td>\n",
              "      <td>Pernod takeover talk lifts Domecq Shares UK dr...</td>\n",
              "      <td>1</td>\n",
              "      <td>0</td>\n",
              "      <td>0</td>\n",
              "      <td>0</td>\n",
              "      <td>0</td>\n",
              "    </tr>\n",
              "    <tr>\n",
              "      <th>5</th>\n",
              "      <td>Japan narrowly escapes recession</td>\n",
              "      <td>Japan's economy teetered on the brink of a te...</td>\n",
              "      <td>Japan narrowly escapes recession Japan's econo...</td>\n",
              "      <td>1</td>\n",
              "      <td>0</td>\n",
              "      <td>0</td>\n",
              "      <td>0</td>\n",
              "      <td>0</td>\n",
              "    </tr>\n",
              "    <tr>\n",
              "      <th>6</th>\n",
              "      <td>Jobs growth still slow in the US</td>\n",
              "      <td>The US created fewer jobs than expected in Ja...</td>\n",
              "      <td>Jobs growth still slow US US created fewer job...</td>\n",
              "      <td>1</td>\n",
              "      <td>0</td>\n",
              "      <td>0</td>\n",
              "      <td>0</td>\n",
              "      <td>0</td>\n",
              "    </tr>\n",
              "    <tr>\n",
              "      <th>7</th>\n",
              "      <td>India calls for fair trade rules</td>\n",
              "      <td>India, which attends the G7 meeting of seven ...</td>\n",
              "      <td>India calls fair trade rules India, attends G7...</td>\n",
              "      <td>1</td>\n",
              "      <td>0</td>\n",
              "      <td>0</td>\n",
              "      <td>0</td>\n",
              "      <td>0</td>\n",
              "    </tr>\n",
              "    <tr>\n",
              "      <th>8</th>\n",
              "      <td>Ethiopia's crop production up 24%</td>\n",
              "      <td>Ethiopia produced 14.27 million tonnes of cro...</td>\n",
              "      <td>Ethiopia's crop production 24% Ethiopia produc...</td>\n",
              "      <td>1</td>\n",
              "      <td>0</td>\n",
              "      <td>0</td>\n",
              "      <td>0</td>\n",
              "      <td>0</td>\n",
              "    </tr>\n",
              "    <tr>\n",
              "      <th>9</th>\n",
              "      <td>Court rejects $280bn tobacco case</td>\n",
              "      <td>A US government claim accusing the country's ...</td>\n",
              "      <td>Court rejects $280bn tobacco case US governmen...</td>\n",
              "      <td>1</td>\n",
              "      <td>0</td>\n",
              "      <td>0</td>\n",
              "      <td>0</td>\n",
              "      <td>0</td>\n",
              "    </tr>\n",
              "  </tbody>\n",
              "</table>\n",
              "</div>"
            ],
            "text/plain": [
              "                               title  ... tech\n",
              "0  Ad sales boost Time Warner profit  ...    0\n",
              "1   Dollar gains on Greenspan speech  ...    0\n",
              "2  Yukos unit buyer faces loan claim  ...    0\n",
              "3  High fuel prices hit BA's profits  ...    0\n",
              "4  Pernod takeover talk lifts Domecq  ...    0\n",
              "5   Japan narrowly escapes recession  ...    0\n",
              "6   Jobs growth still slow in the US  ...    0\n",
              "7   India calls for fair trade rules  ...    0\n",
              "8  Ethiopia's crop production up 24%  ...    0\n",
              "9  Court rejects $280bn tobacco case  ...    0\n",
              "\n",
              "[10 rows x 8 columns]"
            ]
          },
          "metadata": {
            "tags": []
          },
          "execution_count": 23
        }
      ]
    },
    {
      "cell_type": "code",
      "metadata": {
        "id": "oUYERH0OloFp"
      },
      "source": [
        "# change dataframe value to numpy array\r\n",
        "news = new_cat['text'].values\r\n",
        "label = new_cat[['business', 'entertainment', 'politics', 'sport', 'tech']].values"
      ],
      "execution_count": 24,
      "outputs": []
    },
    {
      "cell_type": "code",
      "metadata": {
        "colab": {
          "base_uri": "https://localhost:8080/"
        },
        "id": "nOpclllHmhKh",
        "outputId": "54277b61-9448-496e-bf83-7604c8390ad5"
      },
      "source": [
        "# cek news\r\n",
        "news"
      ],
      "execution_count": 25,
      "outputs": [
        {
          "output_type": "execute_result",
          "data": {
            "text/plain": [
              "array(['Ad sales boost Time Warner profit Quarterly profits US media giant TimeWarner jumped 76% $1.13bn (£600m) three months December, $639m year-earlier. firm, one biggest investors Google, benefited sales high-speed internet connections higher advert sales. TimeWarner said fourth quarter sales rose 2% $11.1bn $10.9bn. profits buoyed one-off gains offset profit dip Warner Bros, less users AOL. Time Warner said Friday owns 8% search-engine Google. internet business, AOL, mixed fortunes. lost 464,000 subscribers fourth quarter profits lower preceding three quarters. However, company said AOL\\'s underlying profit exceptional items rose 8% back stronger internet advertising revenues. hopes increase subscribers offering online service free TimeWarner internet customers try sign AOL\\'s existing customers high-speed broadband. TimeWarner also restate 2000 2003 results following probe US Securities Exchange Commission (SEC), close concluding. Time Warner\\'s fourth quarter profits slightly better analysts\\' expectations. film division saw profits slump 27% $284m, helped box-office flops Alexander Catwoman, sharp contrast year-earlier, third final film Lord Rings trilogy boosted results. full-year, TimeWarner posted profit $3.36bn, 27% 2003 performance, revenues grew 6.4% $42.09bn. \"Our financial performance strong, meeting exceeding full-year objectives greatly enhancing flexibility,\" chairman chief executive Richard Parsons said. 2005, TimeWarner projecting operating earnings growth around 5%, also expects higher revenue wider profit margins. TimeWarner restate accounts part efforts resolve inquiry AOL US market regulators. already offered pay $300m settle charges, deal review SEC. company said unable estimate amount needed set aside legal reserves, previously set $500m. intends adjust way accounts deal German music publisher Bertelsmann\\'s purchase stake AOL Europe, reported advertising revenue. book sale stake AOL Europe loss value stake.',\n",
              "       'Dollar gains Greenspan speech dollar hit highest level euro almost three months Federal Reserve head said US trade deficit set stabilise. Alan Greenspan highlighted US government\\'s willingness curb spending rising household savings factors may help reduce it. late trading New York, dollar reached $1.2871 euro, $1.2974 Thursday. Market concerns deficit hit greenback recent months. Friday, Federal Reserve chairman Mr Greenspan\\'s speech London ahead meeting G7 finance ministers sent dollar higher earlier tumbled back worse-than-expected US jobs data. \"I think chairman\\'s taking much sanguine view current account deficit he\\'s taken time,\" said Robert Sinche, head currency strategy Bank America New York. \"He\\'s taking longer-term view, laying set conditions current account deficit improve year next.\" Worries deficit concerns China do, however, remain. China\\'s currency remains pegged dollar US currency\\'s sharp falls recent months therefore made Chinese export prices highly competitive. calls shift Beijing\\'s policy fallen deaf ears, despite recent comments major Chinese newspaper \"time ripe\" loosening peg. G7 meeting thought unlikely produce meaningful movement Chinese policy. meantime, US Federal Reserve\\'s decision 2 February boost interest rates quarter point sixth move many months opened differential European rates. half-point window, believe, could enough keep US assets looking attractive, could help prop dollar. recent falls partly result big budget deficits, well US\\'s yawning current account gap, need funded buying US bonds assets foreign firms governments. White House announce budget Monday, many commentators believe deficit remain close half trillion dollars.',\n",
              "       'Yukos unit buyer faces loan claim owners embattled Russian oil giant Yukos ask buyer former production unit pay back $900m (£479m) loan. State-owned Rosneft bought Yugansk unit $9.3bn sale forced Russia part settle $27.5bn tax claim Yukos. Yukos\\' owner Menatep Group says ask Rosneft repay loan Yugansk secured assets. Rosneft already faces similar $540m repayment demand foreign banks. Legal experts said Rosneft\\'s purchase Yugansk would include obligations. \"The pledged assets Rosneft, pay real money creditors avoid seizure Yugansk assets,\" said Moscow-based US lawyer Jamie Firestone, connected case. Menatep Group\\'s managing director Tim Osborne told Reuters news agency: \"If default, fight rule law exists international arbitration clauses credit.\" Rosneft officials unavailable comment. company said intends take action Menatep recover tax claims debts owed Yugansk. Yukos filed bankruptcy protection US court attempt prevent forced sale main production arm. sale went ahead December Yugansk sold little-known shell company turn bought Rosneft. Yukos claims downfall punishment political ambitions founder Mikhail Khodorkovsky vowed sue participant sale.',\n",
              "       ...,\n",
              "       'careful code new European directive could put software writers risk legal action, warns former programmer technology analyst Bill Thompson. gets way, Dutch government conclude presidency European Union pushing controversial measure rejected European Parliament, lacks majority support national governments leave millions European citizens legal limbo facing possibility court cases them. new law border controls, defence even new constitution, TV screens would full experts agonising impact daily lives. Sadly directly affected, controversy concerns patenting computer programs, topic may excite bloggers, campaigning groups technical press obsess Middle Britain. all, much fuss generate Directive Patentability Computer-Implemented Inventions, way amends Article 52 1973 European Patent Convention? Yet new directive nodded next meeting one EU\\'s ministerial councils, seems likely, allow programs patented Europe US. Many observers computing scene, including myself, think results disastrous small companies, innovative programmers free open source software movement. let large companies patent sorts ideas give legal force want limit competitors\\' use really obvious ideas. US cannot build system stores customer credit card details pay without re-enter unless Amazon lets you, hold patent \"one-click\" online purchase. small invention, Amazon made patent office first owns it. relatively free sort thing here, perhaps long. new proposals go back 2002, although argument patentability software computer-implemented inventions going since least mid-1980s. come head year proposals made, endorsed Council Ministers, radically modified European Parliament re-presented original form. national governments seem aware problems. Poland rejected proposal Germany\\'s main political parties opposed it, enough opposition guarantee rejection. Early December British government held consultation meeting commented proposals. Science Minister Lord Sainsbury went along listen outline UK position, according present, embarrassing see little minister officials actually understood issues concerned. draft Directive put council called \"A\" item approved rejected. discussion amendment allowed. worried? First, abuse democratic process involved disregarding views parliament abandoning carefully argued amendments. goes heart European project, even care software patents worried. coders treated like today, say tomorrow? directly, software patents granted programmer worry code writing infringing someone else\\'s patent. stealing software, code already protected copyright. Patents copyright, something much stronger. patent gives owner right stop anyone else using invention, even person invented separately. never, shame, managed read Lord Byron\\'s Childe Harold\\'s Pilgrimage. pointed one articles contained substantial chunk poem could defend court claiming simply made coincidence. hold patent. sit afternoon write brilliant graphics compression routine happens LZW algorithm used GIF files, trouble patent law, least US. Coincidence defence. proposed directive supported many major software companies, hardly surprising since US-based already cope legal environment allows patents. legal departments and, crucially, patents trade cross-license patent holders. Even system breaks down, course, Microsoft found last year initially lost case brought Eolas claimed Internet Explorer (and browsers) infringed Eolas patent. one eventually thrown out, months uncertainty millions dollars. small companies, free open software movement patents trade. Much really useful software use every day, programs like Apache web server, GNU/Linux operating system fearsomely popular Firefox browser, developed outside company structures people legal departments check patent infringements. damage software happen overnight, course. directive goes written national laws steady stream legal actions small companies open source products. Eventually someone decide attack Linux directly, probably secret funding one two large players. new directive limit innovation forcing programmers spend time checking patent infringements simply avoiding working potentially competitive areas. damage Europe\\'s computer industry. hope Council Ministers integrity strength reject bad law. Bill Thompson regular commentator BBC World Service programme Go Digital.',\n",
              "       'US cyber security chief resigns man making sure US computer networks safe secure resigned year post. Amit Yoran director National Cyber Security Division within US Department Homeland Security created following 9/11 attacks. division tasked improving US defences malicious hackers, viruses net-based threats. Reports suggest left division given enough clout within larger organisation. Mr Yoran took post September 2003 first task get Cyber Security Division running. organisation staff 60 people budget $80m (£44.54m). division charged thinking carrying action make US networks impervious attack disruption viruses, worms hack attacks become commonplace. last 12 months Mr Yoran oversaw creation cyber alert system sends warnings big hitting viruses net attacks occur. warnings also contained information firms organisations could protect attacks. Cyber Security Division also audited US government networks discover exactly sitting network. next step creation scanning system identify vulnerabilities made federal networks machines susceptible attack malicious hackers virus writers. Mr Yoran\\'s division also work identify networks machines broken cyber criminals. Despite success Mr Yoran left post abruptly end last week, reportedly giving one day\\'s notice bosses Department Homeland Security. \"Amit Yoran valuable contributor cyber security issues past year, appreciate efforts starting department\\'s cybersecurity program,\" said Department Homeland Security spokeswoman. reports suggested Mr Yoran felt frustrated lack prominence given work protect net-based threats wider homeland organisation. attempt US politicians pass law promote Mr Yoran raise profile department\\'s work mired Congress.',\n",
              "       'Losing online gaming Online role playing games time-consuming, enthralling flights reality. people taking fantasy lives seriously? video game World Warcraft hit shops Europe last week fans wrote BBC website express delight offer warning. \"An addiction game like far costly time substance could impair keep track time,\" wrote Travis Anderson, Texas. comments humorous: \"This game good I\\'m going get it, there\\'s way could limit hours I\\'d spend playing it,\" wrote Charles MacIntyre, England. struck worrying tone Massively Multiplayer Online Role Playing Game (MMORPG): \"\\'You need get more\\' could motto MMORPG. Shame getting popular, know problem going mushroom,\" wrote Stuart Stanton-Davies, Huddersfield. Scare-mongering articles \"addictive video games\" existed since days first game Pong stopped everyone working Atari offices. Gaming like pastime quickly become unhealthy obsession, whether spending much time gym, front television, reading poetry. Unfortunately, gaming addiction far easy association make. However, stories gamers spending 10 15 hours day front video games becoming frequent. impact families quite distressing some. Massively multiplayer online role playing games MMORPGs allow thousands gamers share common experience sharing fantasy science fiction worlds. scope games like Warcraft, EverQuest, Ultima among others epic, exploration adventure almost infinite. Part \"problem\" grinding gamers perform long-winded, mindless tasks, bring levels gain access adventure. open-endedness brings desire keep playing; reason EverQuest (EQ) nicknamed EverCrack. E Hayot, writing culture blogzine Print Culture, said recently: \"I used play online role-playing game EverQuest lot. \"By \\'a lot\\', mean probably 15 20 hours week average, weeks work, many 30 40 hours.\" says world online gaming behaviour \"wasn\\'t unusual; lots people knew game played EQ much\". \"You lie; go work \"had stuff home\"; cancel refuse invitations dinner, spend much less time watching TV (a good thing, presumably),\" wrote, explaining EverQuest took time. quit game, says, realised life fun EverQuest. Let us clear obsession rare. huge growth online gaming means growth numbers people take passion hobby far. Almost 400,000 people bought copy World Warcraft first two days sale earlier month. fraction descend obsessives. thoughts families friends gamers affected EverQuest found one blog EverQuest Daily Grind. Jane, runs website, compiles chronicle heart-rending stories. \"I actually convinced point \\'some\\' people spend times MMOPRGs reality,\" said. One unnamed correspondent anonymous wrote: \"On rare nights husband come bed time do, find used sleeping difficult get sleep another body laying next me. \"I can\\'t talk playing. absolutely point hear distracted get \\'ummm... ya\\' minutes ask question.\" \"Gaming widows\" become comedic term women shut male gamers. least funny. Another correspondent wrote: \"I believe addicted online gaming, cause depression restlessness.\" even sadder: \"Today son five days old. \"The sad truth husband spent 11 hours today playing Warcraft game. interact sweet tiny baby important quests waiting online.\" Video game fans often complain hobby misunderstood marginalised. gaming becomes ever mainstream, games ever immersive, hiding place social problems. wish 30-40 hours week unusual think probably isn\\'t. 11 hour stretch surprising I\\'ve known people play 15+ hours stretch. know people spending week\\'s holiday work playing Warcraft. know people would play Ever shifts...waking 3am take friends resume waiting item \\'needed\\' appear. understand key sign addiction alter life around rather fit life. standards many us addicts. solution force stop playing..or need make real life bit interesting? Sadly talk people becoming obsessed gaming, find longing time join them. long term relationship 4 years since began, games become complex. find less less time play them, marriage work main drag time. think line playing game lot gaming addiction really quite distinct. play games lot, definately 20 hours week, go missing work commitments order play games. have, year ago, deleted every game computer. RPGs worst real world fades worries sorround new magic staff mighty sword. Unlike books, perhaps even TV, gain absolutely nothing. stop playing point started; achievements 10 hour session irretrievably locked game and, since gained nothing real world, may well pile achievement fake one. Despite little monetary value, \"rewards\" encouragement offered MMORPGs enough hook games hours daily. business could learn leverage simply human need easily measurable progress recognition. Perhaps unhealthily obsessed simply need recognition achievements reality? advice gaming widows \"if can\\'t beat \\'em, join \\'em\". is, try playing yourself. wants play well, well least together somewhere... addict cost relationship. still play now, without guilt hehe, long played one sitting? morning till early hours next day, birds singing side hobble bath room cos bladder full pain, would hardly eat, perhaps toast, smoke endlessly drink. Now, thankfully fascination worn girlfriend still job. part online gaming give adiction illusory achievement, end sight keep going mirage ultimate. Obsessive behaviour is, course, always cause concern, always bothers articles gaming talk terms \"reality\". Obviously, somebody spends thirty hours week playing EverQuest problem. problem, however, nothing dysfunctional sense reality. obsessive EQ player consider game \"real\" example obsessive automotive tinkerer considers car human. MMORPGs unique danger, terms encouraging obsessive behaviour, create absorbing virtual world, rather easily accessed 24/7. problem lie nature gaming, nature modern 24 hour culture. problem called MMORPGS never really complete them, there\\'s always another quest do. friends 10 hours sleep since released friday... Championship Manager consumed life years. One particular session started 2pm Sunday, paused brief sleep 5am Monday visit University classes restarted midday another 10 hour session. people tend hark problems \"hardcore gaming\" seem rarely allowed become immersed game. would expect perspective change that. used EverQuest addict college. came point gaming world felt real real one. failed alot courses able barely graduate. lucky came senses did, others less fortunate dropped college. holding job, avoid online RPGS like plague. made redundant told partner new job three months whilst every day played EverQuest 7:30am till 5:pm. came home pretended got well, hence justifying playing evening. since quit playing MMORPG good job. got point eating dinner front PC realised things getting silly I\\'m trying spend much time there. easy. feel I\\'ve got real addiction going here. problem love complete goal. completed it, finished, time move on. become obsessed complete goal, standpoint addiction. game never complete \"ultimate\" goal, well would like falling black pit. easier escape controlled fantasy world face reality times words goal offered PC game \"easier\" fun real world. Pretty scary implications think it. can\\'t buy World Warcraft would destroy marrage, know it!! played Star Wars Galaxies year attest addictiveness games. engineered way early game progress quickly, progress becomes exponentially slower, requiring time reach next level. I\\'m sad say peak addiction spending entire weekends front monitor, slowly building character, stopping food toilet breaks. Thankfully made clean break, actually managed sell Jedi account £800 sanity check otherwise completely unproductive time vacuum. Seven years ago, began playing Ultima Online. game dominated 2 years life. 2 wonderful years still vivid memories experiences friends had. Online gaming world escapism without fear thoughts others. Something cannot always achieved day day running normal life. Whilst would warn people giving much life games, believe better way spend time say watching TV. Gaming addictive made recognised addiction. single used play upto eight hours night work every night year, building stats, completing evermore quests battling ogres. somehow found time get out, even met someone got married! life changed? Hell no! still cast spells battle till early hours morning. fun! Online gaming enjoyed much would enjoy watching television, going cinema pub mates. Many people use recreational drugs occasional basis able lead succesfull lives families, relationships good careers. minority allow drugs take destroy lives become addicted. According article true MMORPGs. message government clear, either legalise drugs, outlaw online gaming!! Sounds like sad stories believe all. play alot Warcraft myself, know full well addictive is. resolute take life. certainly gets way though. think people simply know draw line, lack willpower stop stepping it. think I\\'m obsessed gaming general, spend far much time playing games like Everquest 2 Football Manager rather going interacting real people try to, I\\'m always thinking back mind I\\'d rather front computer winning league Cambridge United. obsessed online role playing games. much quests adrenaline real life situation goals achieve etc. spend five hours per day online playing rarely get four five hours sleep getting work next morning... many players spend time MMORPGs rather front TV fail see affect players social lives negatively. Furthermore types games contain huge social aspect, whereas games pursuits (such couch potato) players could indulging solitary nature. games like things -- much anything bad thing, long walk away computer things too, great fun. Living Korea moment, lots PC Bangs (Internet Cafes). Nearly South Koreans addicted online games, one Korean died lack food water playing online games. play xbox live every day. find self lying rescheduling everything around gaming fix. longest played 24 hour straight session. know play long obsession can\\'t control. reccomend counsellor wind up... something I\\'m increasingly concerned with... mate play online hour two day, we\\'re aware much time disappear sitting front TV, trying \\'frag\\' individual. getting balance getting home relasing stress day hour gaming, enjoying \\'real\\' life... bought US version World Warcraft came out. longest period played 23 hrs straight. gave game month addictive, subsequently bought European version (couldn\\'t help myself). future, I\\'m going regulate time far strictly. Great game! played MMORPG games years agree type games life sucking. concern younger generation gamers play hours end adult enviroment. MMORPG games need credit card play dont think parents know letting children into. Unless undeniable medical proof staring computer screens hours time damage person¿s health, expect decline get worse. people pathetic. need get machines notice world swiftly overcome issues troubles make trifling worries \"online universe\" absolutely meaningless. 24hours, kid school half term, Ultima Online game, ahhhh days LOL'],\n",
              "      dtype=object)"
            ]
          },
          "metadata": {
            "tags": []
          },
          "execution_count": 25
        }
      ]
    },
    {
      "cell_type": "code",
      "metadata": {
        "colab": {
          "base_uri": "https://localhost:8080/"
        },
        "id": "NtoNIKBJmk9K",
        "outputId": "85098b47-7d7f-4dbc-bede-d1f54a1b456e"
      },
      "source": [
        "#cek label\r\n",
        "label"
      ],
      "execution_count": 26,
      "outputs": [
        {
          "output_type": "execute_result",
          "data": {
            "text/plain": [
              "array([[1, 0, 0, 0, 0],\n",
              "       [1, 0, 0, 0, 0],\n",
              "       [1, 0, 0, 0, 0],\n",
              "       ...,\n",
              "       [0, 0, 0, 0, 1],\n",
              "       [0, 0, 0, 0, 1],\n",
              "       [0, 0, 0, 0, 1]], dtype=uint8)"
            ]
          },
          "metadata": {
            "tags": []
          },
          "execution_count": 26
        }
      ]
    },
    {
      "cell_type": "markdown",
      "metadata": {
        "id": "bt4vlR81nXl7"
      },
      "source": [
        "**Split dataset 20% test / validasi**"
      ]
    },
    {
      "cell_type": "code",
      "metadata": {
        "id": "m7LqepXIlXh_"
      },
      "source": [
        "x_train,x_test,y_train,y_test = train_test_split(news, label,test_size = 0.2,shuffle=True)"
      ],
      "execution_count": 27,
      "outputs": []
    },
    {
      "cell_type": "markdown",
      "metadata": {
        "id": "SQU_AMOlnreF"
      },
      "source": [
        "#Tokenizer dan Pemodelan Sequential dengan Embedding dan LSTM"
      ]
    },
    {
      "cell_type": "code",
      "metadata": {
        "id": "3vtW6eIxpI4w"
      },
      "source": [
        "import tensorflow as tf\r\n",
        "from tensorflow.keras.preprocessing.text import Tokenizer\r\n",
        "from tensorflow.keras.preprocessing.sequence import pad_sequences\r\n",
        "from tensorflow.keras.layers import LSTM,Dense,Embedding,Dropout\r\n",
        "from tensorflow.keras.models import Sequential\r\n",
        "from tensorflow.keras.optimizers import Adam"
      ],
      "execution_count": 28,
      "outputs": []
    },
    {
      "cell_type": "code",
      "metadata": {
        "id": "oVJ8DGQ5n0EV",
        "colab": {
          "base_uri": "https://localhost:8080/"
        },
        "outputId": "b149e857-1ddb-467b-adee-62d57e062dce"
      },
      "source": [
        "vocab_size = 10000\r\n",
        "max_len = 200\r\n",
        "trunc_type = \"post\"\r\n",
        "oov_tok = \"<OOV>\"\r\n",
        "\r\n",
        "tokenizer = Tokenizer(num_words=vocab_size, oov_token=oov_tok)\r\n",
        "tokenizer.fit_on_texts(x_train)\r\n",
        "\r\n",
        "word_index = tokenizer.word_index\r\n",
        "\r\n",
        "sequences_train = tokenizer.texts_to_sequences(x_train)\r\n",
        "sequences_test = tokenizer.texts_to_sequences(x_test)\r\n",
        "pad_train = pad_sequences(sequences_train, maxlen=max_len, truncating=trunc_type)\r\n",
        "pad_test = pad_sequences(sequences_test, maxlen=max_len, truncating=trunc_type)\r\n",
        "\r\n",
        "print(pad_test.shape)"
      ],
      "execution_count": 29,
      "outputs": [
        {
          "output_type": "stream",
          "text": [
            "(445, 200)\n"
          ],
          "name": "stdout"
        }
      ]
    },
    {
      "cell_type": "code",
      "metadata": {
        "colab": {
          "base_uri": "https://localhost:8080/"
        },
        "id": "BR2PIZ-kXRDS",
        "outputId": "47dbbcc5-7713-4cef-b6ae-b97c57325c69"
      },
      "source": [
        "pad_train"
      ],
      "execution_count": 30,
      "outputs": [
        {
          "output_type": "execute_result",
          "data": {
            "text/plain": [
              "array([[5689,    1,    1, ...,  573, 9845,  441],\n",
              "       [   0,    0,    0, ...,  138,  421,  224],\n",
              "       [   0,    0,    0, ...,  291,  759, 6115],\n",
              "       ...,\n",
              "       [ 579,  442, 4850, ...,   93, 1870,  227],\n",
              "       [9813, 4112,  682, ..., 4365,   50, 3314],\n",
              "       [   0,    0,    0, ...,  628,  138,  421]], dtype=int32)"
            ]
          },
          "metadata": {
            "tags": []
          },
          "execution_count": 30
        }
      ]
    },
    {
      "cell_type": "code",
      "metadata": {
        "colab": {
          "base_uri": "https://localhost:8080/"
        },
        "id": "ZZiYsZixXkfo",
        "outputId": "cfbb333b-2eaa-45b0-e16a-48ed0ccca8f6"
      },
      "source": [
        "pad_test"
      ],
      "execution_count": 31,
      "outputs": [
        {
          "output_type": "execute_result",
          "data": {
            "text/plain": [
              "array([[   0,    0,    0, ...,  635,   41,  103],\n",
              "       [   0,    0,    0, ...,  449,    1, 5979],\n",
              "       [3292,    1,   87, ..., 3619,  373,  167],\n",
              "       ...,\n",
              "       [ 484, 8942,    8, ...,    4, 1213,    1],\n",
              "       [5130, 1297,   46, ..., 7283,  351,   66],\n",
              "       [1565,  312,   49, ..., 2568,  626, 3441]], dtype=int32)"
            ]
          },
          "metadata": {
            "tags": []
          },
          "execution_count": 31
        }
      ]
    },
    {
      "cell_type": "code",
      "metadata": {
        "colab": {
          "base_uri": "https://localhost:8080/"
        },
        "id": "mGJavQ-_A1E_",
        "outputId": "bd95fa72-2730-47f6-c369-2af63586be79"
      },
      "source": [
        "# model\r\n",
        "model = tf.keras.Sequential([\r\n",
        "    tf.keras.layers.Embedding(input_dim=vocab_size, output_dim=64, input_length=max_len),\r\n",
        "    tf.keras.layers.LSTM(128),\r\n",
        "    tf.keras.layers.Dense(128, activation='relu'),\r\n",
        "    tf.keras.layers.Dropout(0.5),\r\n",
        "    tf.keras.layers.Dense(5, activation='softmax')\r\n",
        "])\r\n",
        "model.compile(optimizer='adam', metrics=['accuracy'], loss='categorical_crossentropy',)\r\n",
        "model.summary()"
      ],
      "execution_count": 32,
      "outputs": [
        {
          "output_type": "stream",
          "text": [
            "Model: \"sequential\"\n",
            "_________________________________________________________________\n",
            "Layer (type)                 Output Shape              Param #   \n",
            "=================================================================\n",
            "embedding (Embedding)        (None, 200, 64)           640000    \n",
            "_________________________________________________________________\n",
            "lstm (LSTM)                  (None, 128)               98816     \n",
            "_________________________________________________________________\n",
            "dense (Dense)                (None, 128)               16512     \n",
            "_________________________________________________________________\n",
            "dropout (Dropout)            (None, 128)               0         \n",
            "_________________________________________________________________\n",
            "dense_1 (Dense)              (None, 5)                 645       \n",
            "=================================================================\n",
            "Total params: 755,973\n",
            "Trainable params: 755,973\n",
            "Non-trainable params: 0\n",
            "_________________________________________________________________\n"
          ],
          "name": "stdout"
        }
      ]
    },
    {
      "cell_type": "code",
      "metadata": {
        "id": "4OK-7JrMA0-9"
      },
      "source": [
        "# callback\r\n",
        "class myCallback(tf.keras.callbacks.Callback):\r\n",
        "  def on_epoch_end(self, epoch, logs={}):\r\n",
        "    if(logs.get('accuracy')>0.93 and logs.get('val_accuracy')>0.93):\r\n",
        "      self.model.stop_training = True\r\n",
        "      print(\"\\n akurasi dari training set and the validation set telah terpenuhi > 93%!\")\r\n",
        "callbacks = myCallback()"
      ],
      "execution_count": 33,
      "outputs": []
    },
    {
      "cell_type": "markdown",
      "metadata": {
        "id": "4eUiDDipDjTB"
      },
      "source": [
        "**butuh waktu 3 menit lebih untuk training**"
      ]
    },
    {
      "cell_type": "code",
      "metadata": {
        "colab": {
          "base_uri": "https://localhost:8080/"
        },
        "id": "XredbEdiIbIQ",
        "outputId": "3dd6f35d-2a02-4606-9f2c-e5076a91f9a5"
      },
      "source": [
        "num_epochs = 50\r\n",
        "history = model.fit(pad_train, y_train, epochs=num_epochs, \r\n",
        "                    validation_data=(pad_test, y_test), verbose=2, callbacks=[callbacks])"
      ],
      "execution_count": 34,
      "outputs": [
        {
          "output_type": "stream",
          "text": [
            "Epoch 1/50\n",
            "56/56 - 16s - loss: 1.5870 - accuracy: 0.2904 - val_loss: 1.5231 - val_accuracy: 0.4629\n",
            "Epoch 2/50\n",
            "56/56 - 13s - loss: 1.0577 - accuracy: 0.6112 - val_loss: 0.5412 - val_accuracy: 0.8562\n",
            "Epoch 3/50\n",
            "56/56 - 13s - loss: 0.4026 - accuracy: 0.8815 - val_loss: 0.7027 - val_accuracy: 0.7551\n",
            "Epoch 4/50\n",
            "56/56 - 13s - loss: 0.1841 - accuracy: 0.9562 - val_loss: 0.4594 - val_accuracy: 0.8427\n",
            "Epoch 5/50\n",
            "56/56 - 13s - loss: 0.0428 - accuracy: 0.9933 - val_loss: 0.3008 - val_accuracy: 0.9146\n",
            "Epoch 6/50\n",
            "56/56 - 13s - loss: 0.0062 - accuracy: 1.0000 - val_loss: 0.2967 - val_accuracy: 0.9213\n",
            "Epoch 7/50\n",
            "56/56 - 13s - loss: 0.0070 - accuracy: 0.9989 - val_loss: 0.3028 - val_accuracy: 0.9146\n",
            "Epoch 8/50\n",
            "56/56 - 13s - loss: 0.0229 - accuracy: 0.9972 - val_loss: 0.3714 - val_accuracy: 0.8989\n",
            "Epoch 9/50\n",
            "56/56 - 13s - loss: 0.0156 - accuracy: 0.9955 - val_loss: 0.4863 - val_accuracy: 0.8607\n",
            "Epoch 10/50\n",
            "56/56 - 13s - loss: 0.0187 - accuracy: 0.9961 - val_loss: 0.3879 - val_accuracy: 0.8989\n",
            "Epoch 11/50\n",
            "56/56 - 13s - loss: 0.0038 - accuracy: 0.9994 - val_loss: 0.3478 - val_accuracy: 0.9213\n",
            "Epoch 12/50\n",
            "56/56 - 13s - loss: 0.0012 - accuracy: 1.0000 - val_loss: 0.3215 - val_accuracy: 0.9303\n",
            "\n",
            " akurasi dari training set and the validation set telah terpenuhi > 93%!\n"
          ],
          "name": "stdout"
        }
      ]
    },
    {
      "cell_type": "markdown",
      "metadata": {
        "id": "eDyNBnGEcOfp"
      },
      "source": [
        "Grafik"
      ]
    },
    {
      "cell_type": "code",
      "metadata": {
        "trusted": true,
        "id": "JjZBD5FscOfq",
        "colab": {
          "base_uri": "https://localhost:8080/",
          "height": 295
        },
        "outputId": "fec4636e-acf7-46b1-fcc6-c5d1f7ad9d4e"
      },
      "source": [
        "# plot of accuracy\n",
        "plt.plot(history.history['accuracy'])\n",
        "plt.plot(history.history['val_accuracy'])\n",
        "plt.title('Model Accuracy')\n",
        "plt.ylabel('accuracy')\n",
        "plt.xlabel('epoch')\n",
        "plt.legend(['train', 'test'], loc='upper left')\n",
        "plt.show()"
      ],
      "execution_count": 35,
      "outputs": [
        {
          "output_type": "display_data",
          "data": {
            "image/png": "[encoded data removed]",
            "text/plain": [
              "<Figure size 432x288 with 1 Axes>"
            ]
          },
          "metadata": {
            "tags": []
          }
        }
      ]
    },
    {
      "cell_type": "code",
      "metadata": {
        "colab": {
          "base_uri": "https://localhost:8080/",
          "height": 295
        },
        "id": "umo8arL_FTjl",
        "outputId": "84d5bf28-21a5-4a44-8033-95ca20967af1"
      },
      "source": [
        "# plot of loss\r\n",
        "plt.plot(history.history['loss'])\r\n",
        "plt.plot(history.history['val_loss'])\r\n",
        "plt.title('Model Loss')\r\n",
        "plt.ylabel('loss')\r\n",
        "plt.xlabel('epoch')\r\n",
        "plt.legend(['train', 'test'], loc='upper left')\r\n",
        "plt.show()"
      ],
      "execution_count": 36,
      "outputs": [
        {
          "output_type": "display_data",
          "data": {
            "image/png": "[encoded data removed]",
            "text/plain": [
              "<Figure size 432x288 with 1 Axes>"
            ]
          },
          "metadata": {
            "tags": []
          }
        }
      ]
    }
  ]
}